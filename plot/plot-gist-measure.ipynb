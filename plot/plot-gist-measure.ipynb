{
 "cells": [
  {
   "cell_type": "code",
   "execution_count": 1,
   "metadata": {},
   "outputs": [
    {
     "data": {
      "text/html": [
       "<div>\n",
       "<style scoped>\n",
       "    .dataframe tbody tr th:only-of-type {\n",
       "        vertical-align: middle;\n",
       "    }\n",
       "\n",
       "    .dataframe tbody tr th {\n",
       "        vertical-align: top;\n",
       "    }\n",
       "\n",
       "    .dataframe thead th {\n",
       "        text-align: right;\n",
       "    }\n",
       "</style>\n",
       "<table border=\"1\" class=\"dataframe\">\n",
       "  <thead>\n",
       "    <tr style=\"text-align: right;\">\n",
       "      <th></th>\n",
       "      <th>predict_time</th>\n",
       "      <th>g_range</th>\n",
       "      <th>l_range</th>\n",
       "      <th>build_time</th>\n",
       "      <th>query_time</th>\n",
       "    </tr>\n",
       "  </thead>\n",
       "  <tbody>\n",
       "    <tr>\n",
       "      <th>31</th>\n",
       "      <td>0.012866</td>\n",
       "      <td>20</td>\n",
       "      <td>7</td>\n",
       "      <td>152.318073</td>\n",
       "      <td>0.691375</td>\n",
       "    </tr>\n",
       "    <tr>\n",
       "      <th>32</th>\n",
       "      <td>0.013559</td>\n",
       "      <td>23</td>\n",
       "      <td>1</td>\n",
       "      <td>152.318073</td>\n",
       "      <td>0.383579</td>\n",
       "    </tr>\n",
       "    <tr>\n",
       "      <th>33</th>\n",
       "      <td>0.013853</td>\n",
       "      <td>23</td>\n",
       "      <td>3</td>\n",
       "      <td>152.318073</td>\n",
       "      <td>0.613424</td>\n",
       "    </tr>\n",
       "    <tr>\n",
       "      <th>34</th>\n",
       "      <td>0.014016</td>\n",
       "      <td>23</td>\n",
       "      <td>5</td>\n",
       "      <td>152.318073</td>\n",
       "      <td>0.723861</td>\n",
       "    </tr>\n",
       "    <tr>\n",
       "      <th>35</th>\n",
       "      <td>0.014388</td>\n",
       "      <td>23</td>\n",
       "      <td>7</td>\n",
       "      <td>152.318073</td>\n",
       "      <td>0.770358</td>\n",
       "    </tr>\n",
       "  </tbody>\n",
       "</table>\n",
       "</div>"
      ],
      "text/plain": [
       "    predict_time  g_range  l_range  build_time  query_time\n",
       "31      0.012866       20        7  152.318073    0.691375\n",
       "32      0.013559       23        1  152.318073    0.383579\n",
       "33      0.013853       23        3  152.318073    0.613424\n",
       "34      0.014016       23        5  152.318073    0.723861\n",
       "35      0.014388       23        7  152.318073    0.770358"
      ]
     },
     "execution_count": 1,
     "metadata": {},
     "output_type": "execute_result"
    }
   ],
   "source": [
    "import pandas as pd\n",
    "\n",
    "benchmark_df = pd.read_csv('../results/gist-benchmark.csv')\n",
    "measure_df = pd.read_csv('../results/measure-time-gist.csv')\n",
    "\n",
    "measure_df['query_time'] = benchmark_df['query_time']\n",
    "measure_df.tail()"
   ]
  },
  {
   "cell_type": "code",
   "execution_count": 2,
   "metadata": {},
   "outputs": [
    {
     "data": {
      "text/plain": [
       "<Axes: xlabel='l_range'>"
      ]
     },
     "execution_count": 2,
     "metadata": {},
     "output_type": "execute_result"
    },
    {
     "data": {
      "image/png": "[encoded data removed]",
      "text/plain": [
       "<Figure size 640x480 with 1 Axes>"
      ]
     },
     "metadata": {},
     "output_type": "display_data"
    }
   ],
   "source": [
    "import seaborn as sns\n",
    "data = measure_df.query('g_range == 23')\n",
    "df = pd.DataFrame({'predict_time': data['predict_time'], 'query_time': data['query_time'], 'l_range': data['l_range']})\n",
    "df.plot.bar(x=\"l_range\", rot=0)"
   ]
  },
  {
   "cell_type": "code",
   "execution_count": 3,
   "metadata": {},
   "outputs": [
    {
     "data": {
      "text/html": [
       "<div>\n",
       "<style scoped>\n",
       "    .dataframe tbody tr th:only-of-type {\n",
       "        vertical-align: middle;\n",
       "    }\n",
       "\n",
       "    .dataframe tbody tr th {\n",
       "        vertical-align: top;\n",
       "    }\n",
       "\n",
       "    .dataframe thead th {\n",
       "        text-align: right;\n",
       "    }\n",
       "</style>\n",
       "<table border=\"1\" class=\"dataframe\">\n",
       "  <thead>\n",
       "    <tr style=\"text-align: right;\">\n",
       "      <th></th>\n",
       "      <th>predict_time</th>\n",
       "      <th>g_range</th>\n",
       "      <th>threshold</th>\n",
       "      <th>build_time</th>\n",
       "      <th>query_time</th>\n",
       "    </tr>\n",
       "  </thead>\n",
       "  <tbody>\n",
       "    <tr>\n",
       "      <th>31</th>\n",
       "      <td>0.013451</td>\n",
       "      <td>20</td>\n",
       "      <td>0.05</td>\n",
       "      <td>152.318073</td>\n",
       "      <td>0.641074</td>\n",
       "    </tr>\n",
       "    <tr>\n",
       "      <th>32</th>\n",
       "      <td>0.013399</td>\n",
       "      <td>23</td>\n",
       "      <td>0.50</td>\n",
       "      <td>152.318073</td>\n",
       "      <td>0.410580</td>\n",
       "    </tr>\n",
       "    <tr>\n",
       "      <th>33</th>\n",
       "      <td>0.014273</td>\n",
       "      <td>23</td>\n",
       "      <td>0.10</td>\n",
       "      <td>152.318073</td>\n",
       "      <td>0.640602</td>\n",
       "    </tr>\n",
       "    <tr>\n",
       "      <th>34</th>\n",
       "      <td>0.014490</td>\n",
       "      <td>23</td>\n",
       "      <td>0.07</td>\n",
       "      <td>152.318073</td>\n",
       "      <td>0.681262</td>\n",
       "    </tr>\n",
       "    <tr>\n",
       "      <th>35</th>\n",
       "      <td>0.014677</td>\n",
       "      <td>23</td>\n",
       "      <td>0.05</td>\n",
       "      <td>152.318073</td>\n",
       "      <td>0.715525</td>\n",
       "    </tr>\n",
       "  </tbody>\n",
       "</table>\n",
       "</div>"
      ],
      "text/plain": [
       "    predict_time  g_range  threshold  build_time  query_time\n",
       "31      0.013451       20       0.05  152.318073    0.641074\n",
       "32      0.013399       23       0.50  152.318073    0.410580\n",
       "33      0.014273       23       0.10  152.318073    0.640602\n",
       "34      0.014490       23       0.07  152.318073    0.681262\n",
       "35      0.014677       23       0.05  152.318073    0.715525"
      ]
     },
     "execution_count": 3,
     "metadata": {},
     "output_type": "execute_result"
    }
   ],
   "source": [
    "th_benchmark_df = pd.read_csv('../results/gist-benchmark-threshold.csv')\n",
    "th_measure_df = pd.read_csv('../results/measure-time-threshold-gist.csv')\n",
    "\n",
    "th_measure_df['query_time'] = th_benchmark_df['query_time']\n",
    "th_measure_df.tail()"
   ]
  },
  {
   "cell_type": "code",
   "execution_count": 4,
   "metadata": {},
   "outputs": [
    {
     "data": {
      "text/plain": [
       "<Axes: xlabel='threshold'>"
      ]
     },
     "execution_count": 4,
     "metadata": {},
     "output_type": "execute_result"
    },
    {
     "data": {
      "image/png": "[encoded data removed]",
      "text/plain": [
       "<Figure size 640x480 with 1 Axes>"
      ]
     },
     "metadata": {},
     "output_type": "display_data"
    }
   ],
   "source": [
    "th_data = th_measure_df.query('g_range == 23')\n",
    "th_data = pd.DataFrame({'predict_time': th_data['predict_time'], 'query_time': th_data['query_time'], 'threshold': th_data['threshold']})\n",
    "th_data.plot.bar(x=\"threshold\", rot=0)"
   ]
  },
  {
   "cell_type": "code",
   "execution_count": 5,
   "metadata": {},
   "outputs": [
    {
     "data": {
      "text/html": [
       "<div>\n",
       "<style scoped>\n",
       "    .dataframe tbody tr th:only-of-type {\n",
       "        vertical-align: middle;\n",
       "    }\n",
       "\n",
       "    .dataframe tbody tr th {\n",
       "        vertical-align: top;\n",
       "    }\n",
       "\n",
       "    .dataframe thead th {\n",
       "        text-align: right;\n",
       "    }\n",
       "</style>\n",
       "<table border=\"1\" class=\"dataframe\">\n",
       "  <thead>\n",
       "    <tr style=\"text-align: right;\">\n",
       "      <th></th>\n",
       "      <th>predict_time</th>\n",
       "      <th>g_range</th>\n",
       "      <th>l_range</th>\n",
       "      <th>build_time</th>\n",
       "      <th>recall</th>\n",
       "      <th>method</th>\n",
       "    </tr>\n",
       "  </thead>\n",
       "  <tbody>\n",
       "    <tr>\n",
       "      <th>31</th>\n",
       "      <td>0.012866</td>\n",
       "      <td>20</td>\n",
       "      <td>7</td>\n",
       "      <td>152.318073</td>\n",
       "      <td>0.6020</td>\n",
       "      <td>top_l_range</td>\n",
       "    </tr>\n",
       "    <tr>\n",
       "      <th>32</th>\n",
       "      <td>0.013559</td>\n",
       "      <td>23</td>\n",
       "      <td>1</td>\n",
       "      <td>152.318073</td>\n",
       "      <td>0.4268</td>\n",
       "      <td>top_l_range</td>\n",
       "    </tr>\n",
       "    <tr>\n",
       "      <th>33</th>\n",
       "      <td>0.013853</td>\n",
       "      <td>23</td>\n",
       "      <td>3</td>\n",
       "      <td>152.318073</td>\n",
       "      <td>0.6677</td>\n",
       "      <td>top_l_range</td>\n",
       "    </tr>\n",
       "    <tr>\n",
       "      <th>34</th>\n",
       "      <td>0.014016</td>\n",
       "      <td>23</td>\n",
       "      <td>5</td>\n",
       "      <td>152.318073</td>\n",
       "      <td>0.7141</td>\n",
       "      <td>top_l_range</td>\n",
       "    </tr>\n",
       "    <tr>\n",
       "      <th>35</th>\n",
       "      <td>0.014388</td>\n",
       "      <td>23</td>\n",
       "      <td>7</td>\n",
       "      <td>152.318073</td>\n",
       "      <td>0.7275</td>\n",
       "      <td>top_l_range</td>\n",
       "    </tr>\n",
       "  </tbody>\n",
       "</table>\n",
       "</div>"
      ],
      "text/plain": [
       "    predict_time  g_range  l_range  build_time  recall       method\n",
       "31      0.012866       20        7  152.318073  0.6020  top_l_range\n",
       "32      0.013559       23        1  152.318073  0.4268  top_l_range\n",
       "33      0.013853       23        3  152.318073  0.6677  top_l_range\n",
       "34      0.014016       23        5  152.318073  0.7141  top_l_range\n",
       "35      0.014388       23        7  152.318073  0.7275  top_l_range"
      ]
     },
     "execution_count": 5,
     "metadata": {},
     "output_type": "execute_result"
    }
   ],
   "source": [
    "\n",
    "benchmark_df = pd.read_csv('../results/gist-benchmark.csv')\n",
    "measure_df = pd.read_csv('../results/measure-time-gist.csv')\n",
    "\n",
    "measure_df['recall'] = benchmark_df['recall']\n",
    "measure_df['method'] = 'top_l_range'\n",
    "measure_df.tail()"
   ]
  },
  {
   "cell_type": "code",
   "execution_count": 6,
   "metadata": {},
   "outputs": [
    {
     "data": {
      "text/html": [
       "<div>\n",
       "<style scoped>\n",
       "    .dataframe tbody tr th:only-of-type {\n",
       "        vertical-align: middle;\n",
       "    }\n",
       "\n",
       "    .dataframe tbody tr th {\n",
       "        vertical-align: top;\n",
       "    }\n",
       "\n",
       "    .dataframe thead th {\n",
       "        text-align: right;\n",
       "    }\n",
       "</style>\n",
       "<table border=\"1\" class=\"dataframe\">\n",
       "  <thead>\n",
       "    <tr style=\"text-align: right;\">\n",
       "      <th></th>\n",
       "      <th>predict_time</th>\n",
       "      <th>g_range</th>\n",
       "      <th>threshold</th>\n",
       "      <th>build_time</th>\n",
       "      <th>recall</th>\n",
       "      <th>method</th>\n",
       "    </tr>\n",
       "  </thead>\n",
       "  <tbody>\n",
       "    <tr>\n",
       "      <th>31</th>\n",
       "      <td>0.013451</td>\n",
       "      <td>20</td>\n",
       "      <td>0.05</td>\n",
       "      <td>152.318073</td>\n",
       "      <td>0.5933</td>\n",
       "      <td>threshold</td>\n",
       "    </tr>\n",
       "    <tr>\n",
       "      <th>32</th>\n",
       "      <td>0.013399</td>\n",
       "      <td>23</td>\n",
       "      <td>0.50</td>\n",
       "      <td>152.318073</td>\n",
       "      <td>0.5377</td>\n",
       "      <td>threshold</td>\n",
       "    </tr>\n",
       "    <tr>\n",
       "      <th>33</th>\n",
       "      <td>0.014273</td>\n",
       "      <td>23</td>\n",
       "      <td>0.10</td>\n",
       "      <td>152.318073</td>\n",
       "      <td>0.6940</td>\n",
       "      <td>threshold</td>\n",
       "    </tr>\n",
       "    <tr>\n",
       "      <th>34</th>\n",
       "      <td>0.014490</td>\n",
       "      <td>23</td>\n",
       "      <td>0.07</td>\n",
       "      <td>152.318073</td>\n",
       "      <td>0.7080</td>\n",
       "      <td>threshold</td>\n",
       "    </tr>\n",
       "    <tr>\n",
       "      <th>35</th>\n",
       "      <td>0.014677</td>\n",
       "      <td>23</td>\n",
       "      <td>0.05</td>\n",
       "      <td>152.318073</td>\n",
       "      <td>0.7173</td>\n",
       "      <td>threshold</td>\n",
       "    </tr>\n",
       "  </tbody>\n",
       "</table>\n",
       "</div>"
      ],
      "text/plain": [
       "    predict_time  g_range  threshold  build_time  recall     method\n",
       "31      0.013451       20       0.05  152.318073  0.5933  threshold\n",
       "32      0.013399       23       0.50  152.318073  0.5377  threshold\n",
       "33      0.014273       23       0.10  152.318073  0.6940  threshold\n",
       "34      0.014490       23       0.07  152.318073  0.7080  threshold\n",
       "35      0.014677       23       0.05  152.318073  0.7173  threshold"
      ]
     },
     "execution_count": 6,
     "metadata": {},
     "output_type": "execute_result"
    }
   ],
   "source": [
    "th_benchmark_df = pd.read_csv('../results/gist-benchmark-threshold.csv')\n",
    "th_measure_df = pd.read_csv('../results/measure-time-threshold-gist.csv')\n",
    "\n",
    "th_measure_df['recall'] = th_benchmark_df['recall']\n",
    "th_measure_df['method'] = 'threshold'\n",
    "th_measure_df.tail()"
   ]
  },
  {
   "cell_type": "code",
   "execution_count": 7,
   "metadata": {},
   "outputs": [
    {
     "data": {
      "text/plain": [
       "<Axes: xlabel='recall', ylabel='predict_time'>"
      ]
     },
     "execution_count": 7,
     "metadata": {},
     "output_type": "execute_result"
    },
    {
     "data": {
      "image/png": "[encoded data removed]",
      "text/plain": [
       "<Figure size 640x480 with 1 Axes>"
      ]
     },
     "metadata": {},
     "output_type": "display_data"
    }
   ],
   "source": [
    "import seaborn as sns\n",
    "df1 = measure_df.query('g_range == 23')[['method', 'recall', 'predict_time']]\n",
    "df2= th_measure_df.query('g_range == 23')[['method', 'recall', 'predict_time']]\n",
    "cmp_df = pd.concat([df1, df2])\n",
    "\n",
    "sns.lineplot(x=\"recall\", y=\"predict_time\", hue=\"method\", markers=True, data=cmp_df)"
   ]
  },
  {
   "cell_type": "code",
   "execution_count": 8,
   "metadata": {},
   "outputs": [
    {
     "data": {
      "text/html": [
       "<div>\n",
       "<style scoped>\n",
       "    .dataframe tbody tr th:only-of-type {\n",
       "        vertical-align: middle;\n",
       "    }\n",
       "\n",
       "    .dataframe tbody tr th {\n",
       "        vertical-align: top;\n",
       "    }\n",
       "\n",
       "    .dataframe thead th {\n",
       "        text-align: right;\n",
       "    }\n",
       "</style>\n",
       "<table border=\"1\" class=\"dataframe\">\n",
       "  <thead>\n",
       "    <tr style=\"text-align: right;\">\n",
       "      <th></th>\n",
       "      <th>predict_time</th>\n",
       "      <th>g_range</th>\n",
       "      <th>threshold</th>\n",
       "      <th>build_time</th>\n",
       "      <th>recall</th>\n",
       "      <th>method</th>\n",
       "    </tr>\n",
       "  </thead>\n",
       "  <tbody>\n",
       "    <tr>\n",
       "      <th>32</th>\n",
       "      <td>0.013399</td>\n",
       "      <td>23</td>\n",
       "      <td>0.50</td>\n",
       "      <td>152.318073</td>\n",
       "      <td>0.5377</td>\n",
       "      <td>threshold</td>\n",
       "    </tr>\n",
       "    <tr>\n",
       "      <th>33</th>\n",
       "      <td>0.014273</td>\n",
       "      <td>23</td>\n",
       "      <td>0.10</td>\n",
       "      <td>152.318073</td>\n",
       "      <td>0.6940</td>\n",
       "      <td>threshold</td>\n",
       "    </tr>\n",
       "    <tr>\n",
       "      <th>34</th>\n",
       "      <td>0.014490</td>\n",
       "      <td>23</td>\n",
       "      <td>0.07</td>\n",
       "      <td>152.318073</td>\n",
       "      <td>0.7080</td>\n",
       "      <td>threshold</td>\n",
       "    </tr>\n",
       "    <tr>\n",
       "      <th>35</th>\n",
       "      <td>0.014677</td>\n",
       "      <td>23</td>\n",
       "      <td>0.05</td>\n",
       "      <td>152.318073</td>\n",
       "      <td>0.7173</td>\n",
       "      <td>threshold</td>\n",
       "    </tr>\n",
       "  </tbody>\n",
       "</table>\n",
       "</div>"
      ],
      "text/plain": [
       "    predict_time  g_range  threshold  build_time  recall     method\n",
       "32      0.013399       23       0.50  152.318073  0.5377  threshold\n",
       "33      0.014273       23       0.10  152.318073  0.6940  threshold\n",
       "34      0.014490       23       0.07  152.318073  0.7080  threshold\n",
       "35      0.014677       23       0.05  152.318073  0.7173  threshold"
      ]
     },
     "execution_count": 8,
     "metadata": {},
     "output_type": "execute_result"
    }
   ],
   "source": [
    "th_measure_df.query('g_range == 23')"
   ]
  }
 ],
 "metadata": {
  "kernelspec": {
   "display_name": "ml",
   "language": "python",
   "name": "python3"
  },
  "language_info": {
   "codemirror_mode": {
    "name": "ipython",
    "version": 3
   },
   "file_extension": ".py",
   "mimetype": "text/x-python",
   "name": "python",
   "nbconvert_exporter": "python",
   "pygments_lexer": "ipython3",
   "version": "3.10.11"
  },
  "orig_nbformat": 4
 },
 "nbformat": 4,
 "nbformat_minor": 2
}
