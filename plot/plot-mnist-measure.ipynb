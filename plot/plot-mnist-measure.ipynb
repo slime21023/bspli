{
 "cells": [
  {
   "cell_type": "code",
   "execution_count": 4,
   "metadata": {},
   "outputs": [
    {
     "data": {
      "text/html": [
       "<div>\n",
       "<style scoped>\n",
       "    .dataframe tbody tr th:only-of-type {\n",
       "        vertical-align: middle;\n",
       "    }\n",
       "\n",
       "    .dataframe tbody tr th {\n",
       "        vertical-align: top;\n",
       "    }\n",
       "\n",
       "    .dataframe thead th {\n",
       "        text-align: right;\n",
       "    }\n",
       "</style>\n",
       "<table border=\"1\" class=\"dataframe\">\n",
       "  <thead>\n",
       "    <tr style=\"text-align: right;\">\n",
       "      <th></th>\n",
       "      <th>predict_time</th>\n",
       "      <th>g_range</th>\n",
       "      <th>l_range</th>\n",
       "      <th>build_time</th>\n",
       "      <th>query_time</th>\n",
       "    </tr>\n",
       "  </thead>\n",
       "  <tbody>\n",
       "    <tr>\n",
       "      <th>11</th>\n",
       "      <td>0.003015</td>\n",
       "      <td>7</td>\n",
       "      <td>7</td>\n",
       "      <td>12.683974</td>\n",
       "      <td>0.080929</td>\n",
       "    </tr>\n",
       "    <tr>\n",
       "      <th>12</th>\n",
       "      <td>0.003137</td>\n",
       "      <td>10</td>\n",
       "      <td>1</td>\n",
       "      <td>12.683974</td>\n",
       "      <td>0.029633</td>\n",
       "    </tr>\n",
       "    <tr>\n",
       "      <th>13</th>\n",
       "      <td>0.003160</td>\n",
       "      <td>10</td>\n",
       "      <td>3</td>\n",
       "      <td>12.683974</td>\n",
       "      <td>0.058405</td>\n",
       "    </tr>\n",
       "    <tr>\n",
       "      <th>14</th>\n",
       "      <td>0.003201</td>\n",
       "      <td>10</td>\n",
       "      <td>5</td>\n",
       "      <td>12.683974</td>\n",
       "      <td>0.077011</td>\n",
       "    </tr>\n",
       "    <tr>\n",
       "      <th>15</th>\n",
       "      <td>0.003277</td>\n",
       "      <td>10</td>\n",
       "      <td>7</td>\n",
       "      <td>12.683974</td>\n",
       "      <td>0.089202</td>\n",
       "    </tr>\n",
       "  </tbody>\n",
       "</table>\n",
       "</div>"
      ],
      "text/plain": [
       "    predict_time  g_range  l_range  build_time  query_time\n",
       "11      0.003015        7        7   12.683974    0.080929\n",
       "12      0.003137       10        1   12.683974    0.029633\n",
       "13      0.003160       10        3   12.683974    0.058405\n",
       "14      0.003201       10        5   12.683974    0.077011\n",
       "15      0.003277       10        7   12.683974    0.089202"
      ]
     },
     "execution_count": 4,
     "metadata": {},
     "output_type": "execute_result"
    }
   ],
   "source": [
    "import pandas as pd\n",
    "\n",
    "benchmark_df = pd.read_csv('../results/mnist-benchmark.csv')\n",
    "measure_df = pd.read_csv('../results/measure-time-mnist.csv')\n",
    "\n",
    "measure_df['query_time'] = benchmark_df['query_time']\n",
    "measure_df.tail()"
   ]
  },
  {
   "cell_type": "code",
   "execution_count": 40,
   "metadata": {},
   "outputs": [
    {
     "data": {
      "text/plain": [
       "<Axes: xlabel='l_range'>"
      ]
     },
     "execution_count": 40,
     "metadata": {},
     "output_type": "execute_result"
    },
    {
     "data": {
      "image/png": "[encoded data removed]",
      "text/plain": [
       "<Figure size 640x480 with 1 Axes>"
      ]
     },
     "metadata": {},
     "output_type": "display_data"
    }
   ],
   "source": [
    "import seaborn as sns\n",
    "data = measure_df.query('g_range == 10')\n",
    "df = pd.DataFrame({'predict_time': data['predict_time'], 'query_time': data['query_time'], 'l_range': data['l_range']})\n",
    "df.plot.bar(x=\"l_range\", rot=0)"
   ]
  },
  {
   "cell_type": "code",
   "execution_count": 39,
   "metadata": {},
   "outputs": [
    {
     "data": {
      "text/html": [
       "<div>\n",
       "<style scoped>\n",
       "    .dataframe tbody tr th:only-of-type {\n",
       "        vertical-align: middle;\n",
       "    }\n",
       "\n",
       "    .dataframe tbody tr th {\n",
       "        vertical-align: top;\n",
       "    }\n",
       "\n",
       "    .dataframe thead th {\n",
       "        text-align: right;\n",
       "    }\n",
       "</style>\n",
       "<table border=\"1\" class=\"dataframe\">\n",
       "  <thead>\n",
       "    <tr style=\"text-align: right;\">\n",
       "      <th></th>\n",
       "      <th>predict_time</th>\n",
       "      <th>g_range</th>\n",
       "      <th>threshold</th>\n",
       "      <th>build_time</th>\n",
       "      <th>query_time</th>\n",
       "    </tr>\n",
       "  </thead>\n",
       "  <tbody>\n",
       "    <tr>\n",
       "      <th>11</th>\n",
       "      <td>0.003292</td>\n",
       "      <td>7</td>\n",
       "      <td>0.05</td>\n",
       "      <td>12.683974</td>\n",
       "      <td>0.058062</td>\n",
       "    </tr>\n",
       "    <tr>\n",
       "      <th>12</th>\n",
       "      <td>0.003346</td>\n",
       "      <td>10</td>\n",
       "      <td>0.50</td>\n",
       "      <td>12.683974</td>\n",
       "      <td>0.036565</td>\n",
       "    </tr>\n",
       "    <tr>\n",
       "      <th>13</th>\n",
       "      <td>0.003469</td>\n",
       "      <td>10</td>\n",
       "      <td>0.10</td>\n",
       "      <td>12.683974</td>\n",
       "      <td>0.050008</td>\n",
       "    </tr>\n",
       "    <tr>\n",
       "      <th>14</th>\n",
       "      <td>0.003520</td>\n",
       "      <td>10</td>\n",
       "      <td>0.07</td>\n",
       "      <td>12.683974</td>\n",
       "      <td>0.057228</td>\n",
       "    </tr>\n",
       "    <tr>\n",
       "      <th>15</th>\n",
       "      <td>0.003439</td>\n",
       "      <td>10</td>\n",
       "      <td>0.05</td>\n",
       "      <td>12.683974</td>\n",
       "      <td>0.064632</td>\n",
       "    </tr>\n",
       "  </tbody>\n",
       "</table>\n",
       "</div>"
      ],
      "text/plain": [
       "    predict_time  g_range  threshold  build_time  query_time\n",
       "11      0.003292        7       0.05   12.683974    0.058062\n",
       "12      0.003346       10       0.50   12.683974    0.036565\n",
       "13      0.003469       10       0.10   12.683974    0.050008\n",
       "14      0.003520       10       0.07   12.683974    0.057228\n",
       "15      0.003439       10       0.05   12.683974    0.064632"
      ]
     },
     "execution_count": 39,
     "metadata": {},
     "output_type": "execute_result"
    }
   ],
   "source": [
    "th_benchmark_df = pd.read_csv('../results/mnist-benchmark-threshold.csv')\n",
    "th_measure_df = pd.read_csv('../results/measure-time-threshold-mnist.csv')\n",
    "\n",
    "th_measure_df['query_time'] = th_benchmark_df['query_time']\n",
    "th_measure_df.tail()"
   ]
  },
  {
   "cell_type": "code",
   "execution_count": 42,
   "metadata": {},
   "outputs": [
    {
     "data": {
      "text/plain": [
       "<Axes: xlabel='threshold'>"
      ]
     },
     "execution_count": 42,
     "metadata": {},
     "output_type": "execute_result"
    },
    {
     "data": {
      "image/png": "[encoded data removed]",
      "text/plain": [
       "<Figure size 640x480 with 1 Axes>"
      ]
     },
     "metadata": {},
     "output_type": "display_data"
    }
   ],
   "source": [
    "th_data = th_measure_df.query('g_range == 10')\n",
    "th_data = pd.DataFrame({'predict_time': th_data['predict_time'], 'query_time': th_data['query_time'], 'threshold': th_data['threshold']})\n",
    "th_data.plot.bar(x=\"threshold\", rot=0)"
   ]
  },
  {
   "cell_type": "code",
   "execution_count": 44,
   "metadata": {},
   "outputs": [
    {
     "data": {
      "text/html": [
       "<div>\n",
       "<style scoped>\n",
       "    .dataframe tbody tr th:only-of-type {\n",
       "        vertical-align: middle;\n",
       "    }\n",
       "\n",
       "    .dataframe tbody tr th {\n",
       "        vertical-align: top;\n",
       "    }\n",
       "\n",
       "    .dataframe thead th {\n",
       "        text-align: right;\n",
       "    }\n",
       "</style>\n",
       "<table border=\"1\" class=\"dataframe\">\n",
       "  <thead>\n",
       "    <tr style=\"text-align: right;\">\n",
       "      <th></th>\n",
       "      <th>predict_time</th>\n",
       "      <th>g_range</th>\n",
       "      <th>l_range</th>\n",
       "      <th>build_time</th>\n",
       "      <th>recall</th>\n",
       "      <th>method</th>\n",
       "    </tr>\n",
       "  </thead>\n",
       "  <tbody>\n",
       "    <tr>\n",
       "      <th>11</th>\n",
       "      <td>0.003015</td>\n",
       "      <td>7</td>\n",
       "      <td>7</td>\n",
       "      <td>12.683974</td>\n",
       "      <td>0.9272</td>\n",
       "      <td>top_l_range</td>\n",
       "    </tr>\n",
       "    <tr>\n",
       "      <th>12</th>\n",
       "      <td>0.003137</td>\n",
       "      <td>10</td>\n",
       "      <td>1</td>\n",
       "      <td>12.683974</td>\n",
       "      <td>0.6585</td>\n",
       "      <td>top_l_range</td>\n",
       "    </tr>\n",
       "    <tr>\n",
       "      <th>13</th>\n",
       "      <td>0.003160</td>\n",
       "      <td>10</td>\n",
       "      <td>3</td>\n",
       "      <td>12.683974</td>\n",
       "      <td>0.9092</td>\n",
       "      <td>top_l_range</td>\n",
       "    </tr>\n",
       "    <tr>\n",
       "      <th>14</th>\n",
       "      <td>0.003201</td>\n",
       "      <td>10</td>\n",
       "      <td>5</td>\n",
       "      <td>12.683974</td>\n",
       "      <td>0.9618</td>\n",
       "      <td>top_l_range</td>\n",
       "    </tr>\n",
       "    <tr>\n",
       "      <th>15</th>\n",
       "      <td>0.003277</td>\n",
       "      <td>10</td>\n",
       "      <td>7</td>\n",
       "      <td>12.683974</td>\n",
       "      <td>0.9763</td>\n",
       "      <td>top_l_range</td>\n",
       "    </tr>\n",
       "  </tbody>\n",
       "</table>\n",
       "</div>"
      ],
      "text/plain": [
       "    predict_time  g_range  l_range  build_time  recall       method\n",
       "11      0.003015        7        7   12.683974  0.9272  top_l_range\n",
       "12      0.003137       10        1   12.683974  0.6585  top_l_range\n",
       "13      0.003160       10        3   12.683974  0.9092  top_l_range\n",
       "14      0.003201       10        5   12.683974  0.9618  top_l_range\n",
       "15      0.003277       10        7   12.683974  0.9763  top_l_range"
      ]
     },
     "execution_count": 44,
     "metadata": {},
     "output_type": "execute_result"
    }
   ],
   "source": [
    "\n",
    "benchmark_df = pd.read_csv('../results/mnist-benchmark.csv')\n",
    "measure_df = pd.read_csv('../results/measure-time-mnist.csv')\n",
    "\n",
    "measure_df['recall'] = benchmark_df['recall']\n",
    "measure_df['method'] = 'top_l_range'\n",
    "measure_df.tail()"
   ]
  },
  {
   "cell_type": "code",
   "execution_count": 45,
   "metadata": {},
   "outputs": [
    {
     "data": {
      "text/html": [
       "<div>\n",
       "<style scoped>\n",
       "    .dataframe tbody tr th:only-of-type {\n",
       "        vertical-align: middle;\n",
       "    }\n",
       "\n",
       "    .dataframe tbody tr th {\n",
       "        vertical-align: top;\n",
       "    }\n",
       "\n",
       "    .dataframe thead th {\n",
       "        text-align: right;\n",
       "    }\n",
       "</style>\n",
       "<table border=\"1\" class=\"dataframe\">\n",
       "  <thead>\n",
       "    <tr style=\"text-align: right;\">\n",
       "      <th></th>\n",
       "      <th>predict_time</th>\n",
       "      <th>g_range</th>\n",
       "      <th>threshold</th>\n",
       "      <th>build_time</th>\n",
       "      <th>recall</th>\n",
       "      <th>method</th>\n",
       "    </tr>\n",
       "  </thead>\n",
       "  <tbody>\n",
       "    <tr>\n",
       "      <th>11</th>\n",
       "      <td>0.003292</td>\n",
       "      <td>7</td>\n",
       "      <td>0.05</td>\n",
       "      <td>12.683974</td>\n",
       "      <td>0.9026</td>\n",
       "      <td>threshold</td>\n",
       "    </tr>\n",
       "    <tr>\n",
       "      <th>12</th>\n",
       "      <td>0.003346</td>\n",
       "      <td>10</td>\n",
       "      <td>0.50</td>\n",
       "      <td>12.683974</td>\n",
       "      <td>0.8186</td>\n",
       "      <td>threshold</td>\n",
       "    </tr>\n",
       "    <tr>\n",
       "      <th>13</th>\n",
       "      <td>0.003469</td>\n",
       "      <td>10</td>\n",
       "      <td>0.10</td>\n",
       "      <td>12.683974</td>\n",
       "      <td>0.9013</td>\n",
       "      <td>threshold</td>\n",
       "    </tr>\n",
       "    <tr>\n",
       "      <th>14</th>\n",
       "      <td>0.003520</td>\n",
       "      <td>10</td>\n",
       "      <td>0.07</td>\n",
       "      <td>12.683974</td>\n",
       "      <td>0.9273</td>\n",
       "      <td>threshold</td>\n",
       "    </tr>\n",
       "    <tr>\n",
       "      <th>15</th>\n",
       "      <td>0.003439</td>\n",
       "      <td>10</td>\n",
       "      <td>0.05</td>\n",
       "      <td>12.683974</td>\n",
       "      <td>0.9487</td>\n",
       "      <td>threshold</td>\n",
       "    </tr>\n",
       "  </tbody>\n",
       "</table>\n",
       "</div>"
      ],
      "text/plain": [
       "    predict_time  g_range  threshold  build_time  recall     method\n",
       "11      0.003292        7       0.05   12.683974  0.9026  threshold\n",
       "12      0.003346       10       0.50   12.683974  0.8186  threshold\n",
       "13      0.003469       10       0.10   12.683974  0.9013  threshold\n",
       "14      0.003520       10       0.07   12.683974  0.9273  threshold\n",
       "15      0.003439       10       0.05   12.683974  0.9487  threshold"
      ]
     },
     "execution_count": 45,
     "metadata": {},
     "output_type": "execute_result"
    }
   ],
   "source": [
    "th_benchmark_df = pd.read_csv('../results/mnist-benchmark-threshold.csv')\n",
    "th_measure_df = pd.read_csv('../results/measure-time-threshold-mnist.csv')\n",
    "\n",
    "th_measure_df['recall'] = th_benchmark_df['recall']\n",
    "th_measure_df['method'] = 'threshold'\n",
    "th_measure_df.tail()"
   ]
  },
  {
   "cell_type": "code",
   "execution_count": 58,
   "metadata": {},
   "outputs": [
    {
     "data": {
      "text/plain": [
       "<Axes: xlabel='recall', ylabel='predict_time'>"
      ]
     },
     "execution_count": 58,
     "metadata": {},
     "output_type": "execute_result"
    },
    {
     "data": {
      "image/png": "[encoded data removed]",
      "text/plain": [
       "<Figure size 640x480 with 1 Axes>"
      ]
     },
     "metadata": {},
     "output_type": "display_data"
    }
   ],
   "source": [
    "import seaborn as sns\n",
    "df1 = measure_df.query('g_range == 10')[['method', 'recall', 'predict_time']]\n",
    "df2= th_measure_df.query('g_range == 10')[['method', 'recall', 'predict_time']]\n",
    "cmp_df = pd.concat([df1, df2])\n",
    "\n",
    "sns.lineplot(x=\"recall\", y=\"predict_time\", hue=\"method\", markers=True, data=cmp_df)"
   ]
  }
 ],
 "metadata": {
  "kernelspec": {
   "display_name": "ml",
   "language": "python",
   "name": "python3"
  },
  "language_info": {
   "codemirror_mode": {
    "name": "ipython",
    "version": 3
   },
   "file_extension": ".py",
   "mimetype": "text/x-python",
   "name": "python",
   "nbconvert_exporter": "python",
   "pygments_lexer": "ipython3",
   "version": "3.10.11"
  },
  "orig_nbformat": 4
 },
 "nbformat": 4,
 "nbformat_minor": 2
}
