{
 "cells": [
  {
   "cell_type": "code",
   "execution_count": 7,
   "metadata": {},
   "outputs": [
    {
     "name": "stdout",
     "output_type": "stream",
     "text": [
      "torch.Size([2876, 11])\n",
      "torch.Size([8567, 11])\n",
      "torch.Size([8487, 11])\n",
      "torch.Size([5070, 11])\n",
      "Ramdom partitioning finish\n",
      "training local model\n",
      "training local model\n",
      "training local model\n",
      "training local model\n",
      "trainging global model\n"
     ]
    },
    {
     "name": "stderr",
     "output_type": "stream",
     "text": [
      "d:\\study\\bspli\\bspli\\partitioning.py:102: UserWarning: To copy construct from a tensor, it is recommended to use sourceTensor.clone().detach() or sourceTensor.clone().detach().requires_grad_(True), rather than torch.tensor(sourceTensor).\n",
      "  ma = torch.tensor(means)\n"
     ]
    },
    {
     "name": "stdout",
     "output_type": "stream",
     "text": [
      "finish\n",
      "local model len:4\n",
      "predicted local model: 2\n",
      "pred: tensor([  250,  5118,  3278, 18283, 19906,  3160,   479, 17235, 16496,  9384,\n",
      "         1523, 11048,  2658, 11196,  6176, 22538,  5381,  1717, 19720,  9104,\n",
      "        17796, 11499, 11442,  5482, 13345,  6485,  3010,  3487,   129,   695,\n",
      "         1300,  9044, 19469,  8943, 20161, 18074, 16352, 19248, 16467, 22997,\n",
      "        12266, 22537,  9862,  5790, 11694,  4249, 10719, 10033,  3745, 11839,\n",
      "        11568,  6448, 19477, 21710,  8777,  9303,  3626, 20910, 17192, 17986,\n",
      "         9361, 10582,  2834, 12049, 20308,  7698,  2502, 20240, 12046, 11942,\n",
      "        11412,  8279,  5934, 12377, 17913, 15919,  9540, 21161, 12971, 12040,\n",
      "         4078, 17389, 19895,  8448, 22695, 20358, 17966, 16996,  3366,  4445,\n",
      "         4947, 20043, 13422, 14398,  4164, 13663, 15604, 11967, 14799, 13278],\n",
      "       dtype=torch.int32)\n"
     ]
    }
   ],
   "source": [
    "import torch\n",
    "import sys\n",
    "import bspli\n",
    "sys.setrecursionlimit(10000)\n",
    "\n",
    "data = torch.randint(0, 1000, (25000, 10),  dtype= torch.float)\n",
    "\n",
    "\n",
    "index = bspli.index.Indexing(gl_size=10000, ll_size=150)\n",
    "index.train(data)\n",
    "\n",
    "print(f\"local model len:{len(index._l_model)}\")\n",
    "\n",
    "qp = data[0]\n",
    "# print(qp)\n",
    "pred = index.query(qp, k=100)\n",
    "pred = pred.to(torch.int)\n",
    "print(f\"pred: {pred}\")"
   ]
  }
 ],
 "metadata": {
  "kernelspec": {
   "display_name": "ml",
   "language": "python",
   "name": "python3"
  },
  "language_info": {
   "codemirror_mode": {
    "name": "ipython",
    "version": 3
   },
   "file_extension": ".py",
   "mimetype": "text/x-python",
   "name": "python",
   "nbconvert_exporter": "python",
   "pygments_lexer": "ipython3",
   "version": "3.10.11"
  },
  "orig_nbformat": 4
 },
 "nbformat": 4,
 "nbformat_minor": 2
}
